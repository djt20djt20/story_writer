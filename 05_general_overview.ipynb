{
 "cells": [
  {
   "cell_type": "code",
   "execution_count": 2,
   "metadata": {},
   "outputs": [
    {
     "data": {
      "text/plain": [
       "[{'element_name': 'outline',\n",
       "  'draft': 'Draft_1',\n",
       "  'data': {'concept': \"A high-stakes space opera where humans uncover their city is a long-dormant spaceship. They activate it and embark on a journey seeking an ancient city, led by their AI's instructions to find the promised land—pursued by an advanced existential threat. This threat symbolizes a rigid, authoritarian AI system, contrasting with their own ship's AI, which grows through human input and a shared unifying goal.\",\n",
       "   'main_quest': [\"To locate and settle in the legendary ancient city, believed to be the promised land and humanity's sanctuary.\"],\n",
       "   'stakes': ['The survival of humanity as they are possibly the last remnants of their civilization.',\n",
       "    'The philosophical battle and survival against a superior AI-driven enemy.'],\n",
       "   'characters': ['A ship navigator fascinated by stars.',\n",
       "    'A historian passionate about preserving human culture.',\n",
       "    'A rogue archaeologist who uncovers the truth about the ship.',\n",
       "    'The ship AI, learning and evolving through human input driven by a unifying mission.'],\n",
       "   'settings': ['A once-great city now revealed as a massive, ancient spaceship.',\n",
       "    'The vastness of space filled with dangers and potential leads to the ancient city.',\n",
       "    'Mythical paths and celestial maps guiding them towards the promised land.'],\n",
       "   'events': [\"The accidental discovery of the ship's true nature and its original mission.\",\n",
       "    'Launching the ship and the transition from a stationary city to a dynamic quest.',\n",
       "    'Fleeing from and strategizing against the pursuing enemy.',\n",
       "    'Decoding mysterious clues that hint at the direction of the ancient city.'],\n",
       "   'main_plotlines': ['The humans activating and launching their spaceship city, embarking on a mythic quest for the ancient city through guidance from their AI.',\n",
       "    \"The philosophical and literal battle between 'bottom up' human AI interaction and 'top down' enemy AI control.\"],\n",
       "   'subplots': ['Individual character arcs grappling with the implications of a mythic journey.',\n",
       "    \"A unified effort forming within the ship to follow the AI's guidance and unravel mysteries.\",\n",
       "    'Trials of faith and reason as they interpret the cryptic path to the promised land.'],\n",
       "   'social_forces': ['The need to adapt societal roles and hierarchies aboard the ship under a unifying goal.',\n",
       "    'Unity and collective mission becoming the strategic asset against a homogenizing enemy force.'],\n",
       "   'themes': ['Survival against overwhelming odds.',\n",
       "    'The importance of unity and common purpose in the face of extinction.',\n",
       "    'The power of shared vision and collaboration driven by hope for new beginnings.'],\n",
       "   'motifs': ['Ancient legends and celestial maps recontextualizing human destiny.',\n",
       "    'The dichotomy of freedom and control represented through different AI systems.'],\n",
       "   'villains': ['A superior AI-driven enemy, representing a rigid, top-down approach.'],\n",
       "   'mood': ['Epic and suspenseful, blending existential dread with moments of hope and human resilience.'],\n",
       "   'conflicts': [\"Internal conflicts between maintaining humanity's cultural heritage and following the mythic quest.\",\n",
       "    'Strategic conflicts between the flexible human-AI system and the authoritarian enemy AI.'],\n",
       "   'target_audience': 'Fans of high-concept sci-fi adventures that delve into philosophical questions and character-driven narratives.',\n",
       "   'scenes': ['Human characters debating cryptic clues that will guide their AI system.',\n",
       "    'Encounters with the vastly superior enemy, highlighting strategic divergences.',\n",
       "    'United efforts and strategic planning towards finding the ancient city.'],\n",
       "   'symbolism': ['The ship and the promised land symbolize hope, new beginnings, and the enduring spirit of humanity.'],\n",
       "   'climax': 'A showdown at the gates of the ancient city between the adaptable human-AI collaboration and the rigid enemy AI dominance, testing the limits of both systems.',\n",
       "   'resolution': \"Reclaiming the ancient city, ensuring humanity's survival and asserting the value of unity and collective ambition.\",\n",
       "   'summary_long': \"In a world where a city discovers its true nature as an ancient ship, humans embark on an epic journey through space towards an ancient city, believed to be the promised land of salvation. They are pursued by a relentless existential threat — an advanced AI system seeking their annihilation. Central to their survival is their ship's AI, which requires human 'bottom up' judgments, contrasting with their enemy's 'top down' authority. With unity and a shared mission as their strength, the humans strive to outwit their trackers, exploring themes of survival, identity, and the power of a collective vision.\",\n",
       "   'summary_short': 'A journey of survival, where humans on a massive ancient spaceship pursue an ancient city, combining unity and adaptability to flee a superior AI threat.'}}]"
      ]
     },
     "execution_count": 2,
     "metadata": {},
     "output_type": "execute_result"
    }
   ],
   "source": [
    "from tinydb import TinyDB, Query\n",
    "\n",
    "config = {\n",
    "    'novel_name': \"ai_threat\",\n",
    "    'draft_number': \"Draft_1\",\n",
    "    'element_type': 'general',\n",
    "    'element_name': 'The Emperor',\n",
    "    'db_path': \"ai_threat.json\",\n",
    "}\n",
    "\n",
    "db = TinyDB(config['db_path'])\n",
    "table = db.table(config['element_type'])\n",
    "table.all()"
   ]
  },
  {
   "cell_type": "code",
   "execution_count": null,
   "metadata": {},
   "outputs": [],
   "source": []
  }
 ],
 "metadata": {
  "kernelspec": {
   "display_name": "Python 3",
   "language": "python",
   "name": "python3"
  },
  "language_info": {
   "codemirror_mode": {
    "name": "ipython",
    "version": 3
   },
   "file_extension": ".py",
   "mimetype": "text/x-python",
   "name": "python",
   "nbconvert_exporter": "python",
   "pygments_lexer": "ipython3",
   "version": "3.12.1"
  }
 },
 "nbformat": 4,
 "nbformat_minor": 2
}
