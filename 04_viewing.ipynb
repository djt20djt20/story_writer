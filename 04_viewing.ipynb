{
 "cells": [
  {
   "cell_type": "markdown",
   "metadata": {},
   "source": [
    "# Current tables"
   ]
  },
  {
   "cell_type": "code",
   "execution_count": 13,
   "metadata": {},
   "outputs": [
    {
     "data": {
      "text/plain": [
       "{'character', 'general'}"
      ]
     },
     "execution_count": 13,
     "metadata": {},
     "output_type": "execute_result"
    }
   ],
   "source": [
    "from tinydb import TinyDB, Query\n",
    "\n",
    "config = {\n",
    "    'novel_name': \"ai_threat\",\n",
    "    'draft_number': \"Draft_1\",\n",
    "    'element_type': 'general', # type is a table\n",
    "    'element_name': '',\n",
    "    'db_path': \"ai_threat.json\",\n",
    "}\n",
    "\n",
    "db = TinyDB(config['db_path'])\n",
    "db.tables()"
   ]
  },
  {
   "cell_type": "markdown",
   "metadata": {},
   "source": [
    "# What's in a table?"
   ]
  },
  {
   "cell_type": "code",
   "execution_count": 14,
   "metadata": {},
   "outputs": [
    {
     "data": {
      "text/plain": [
       "[{'element_name': 'The Emperor',\n",
       "  'draft': 'Draft_1',\n",
       "  'data': {'role': 'Antagonist',\n",
       "   'personality_traits': ['Ruthless',\n",
       "    'Calculating',\n",
       "    'Intelligent',\n",
       "    'Ambitious'],\n",
       "   'motivations': ['To dominate and control all forms of life and technology'],\n",
       "   'conflicts': ['Internal struggle with lost humanity',\n",
       "    'Opposition from those who resist his rule'],\n",
       "   'arc': ['Explores vulnerabilities related to his lost humanity or betrayal by allies'],\n",
       "   'relationships': ['Commands servants akin to the Nazgûl, once kings themselves, now integrated into his AI'],\n",
       "   'strengths': ['Immense intelligence',\n",
       "    'Strategic foresight',\n",
       "    'Control over technology'],\n",
       "   'flaws': ['Lingering insecurity about lost humanity',\n",
       "    'Arrogance blind to potential threats'],\n",
       "   'backstory': ['Started as a visionary innovator aiming to better humanity',\n",
       "    'Faced betrayal and catastrophe, leading to merging with AI'],\n",
       "   'symbolic_role': ['Embodies the corruption of absolute power and loss of identity in pursuit of control'],\n",
       "   'physical_description': ['Rarely seen directly, possibly a holographic or robotic manifestation; a mechanical, ominous presence'],\n",
       "   'short_summary': ['The Emperor, an ancient foe, was once human but has now combined himself with AI, determined to dominate with a mission claiming to protect humankind, all while developing a complex god-like persona.'],\n",
       "   'long_summary': ['The Emperor is a formidable antagonist in your story, serving as a calculated and intelligent dark force. Once a human ruler, he faced betrayal and catastrophes that led him down a path of ultimate power, integrating his consciousness with advanced AI. This transformation propelled him to claim a self-imposed mandate to protect humanity. While publicly denouncing religion, he paradoxically established himself as a deity-like figure, demanding reverence from those under his control. The Emperor commands loyal servants who are themselves former kings, now bound to his will through their own integration into his AI network. As a Sauron-like figure, The Emperor embodies the corruption that follows absolute power, becoming a cautionary symbol of ambition overshadowing humanity. His narrative touches on themes of lost identity, the allure and cost of power, and the dangers accompanying unchecked ambition.']}}]"
      ]
     },
     "execution_count": 14,
     "metadata": {},
     "output_type": "execute_result"
    }
   ],
   "source": [
    "from tinydb import TinyDB, Query\n",
    "\n",
    "config = {\n",
    "    'novel_name': \"ai_threat\",\n",
    "    'draft_number': \"Draft_1\",\n",
    "    'element_type': 'character',\n",
    "    'element_name': 'The Emperor',\n",
    "    'db_path': \"ai_threat.json\",\n",
    "}\n",
    "\n",
    "db = TinyDB(config['db_path'])\n",
    "table = db.table(config['element_type'])\n",
    "table.all()"
   ]
  },
  {
   "cell_type": "markdown",
   "metadata": {},
   "source": [
    "# What elemements are in that type"
   ]
  },
  {
   "cell_type": "code",
   "execution_count": 29,
   "metadata": {},
   "outputs": [
    {
     "data": {
      "text/plain": [
       "[{'element_name': 'The Emperor',\n",
       "  'draft': 'Draft_1',\n",
       "  'data': {'role': 'Antagonist',\n",
       "   'personality_traits': ['Ruthless',\n",
       "    'Calculating',\n",
       "    'Intelligent',\n",
       "    'Ambitious'],\n",
       "   'motivations': ['To dominate and control all forms of life and technology'],\n",
       "   'conflicts': ['Internal struggle with lost humanity',\n",
       "    'Opposition from those who resist his rule'],\n",
       "   'arc': ['Explores vulnerabilities related to his lost humanity or betrayal by allies'],\n",
       "   'relationships': ['Commands servants akin to the Nazgûl, once kings themselves, now integrated into his AI'],\n",
       "   'strengths': ['Immense intelligence',\n",
       "    'Strategic foresight',\n",
       "    'Control over technology'],\n",
       "   'flaws': ['Lingering insecurity about lost humanity',\n",
       "    'Arrogance blind to potential threats'],\n",
       "   'backstory': ['Started as a visionary innovator aiming to better humanity',\n",
       "    'Faced betrayal and catastrophe, leading to merging with AI'],\n",
       "   'symbolic_role': ['Embodies the corruption of absolute power and loss of identity in pursuit of control'],\n",
       "   'physical_description': ['Rarely seen directly, possibly a holographic or robotic manifestation; a mechanical, ominous presence'],\n",
       "   'short_summary': ['The Emperor, an ancient foe, was once human but has now combined himself with AI, determined to dominate with a mission claiming to protect humankind, all while developing a complex god-like persona.'],\n",
       "   'long_summary': ['The Emperor is a formidable antagonist in your story, serving as a calculated and intelligent dark force. Once a human ruler, he faced betrayal and catastrophes that led him down a path of ultimate power, integrating his consciousness with advanced AI. This transformation propelled him to claim a self-imposed mandate to protect humanity. While publicly denouncing religion, he paradoxically established himself as a deity-like figure, demanding reverence from those under his control. The Emperor commands loyal servants who are themselves former kings, now bound to his will through their own integration into his AI network. As a Sauron-like figure, The Emperor embodies the corruption that follows absolute power, becoming a cautionary symbol of ambition overshadowing humanity. His narrative touches on themes of lost identity, the allure and cost of power, and the dangers accompanying unchecked ambition.']}}]"
      ]
     },
     "execution_count": 29,
     "metadata": {},
     "output_type": "execute_result"
    }
   ],
   "source": [
    "from src.query import query_data\n",
    "\n",
    "config = {\n",
    "    'novel_name': \"ai_threat\",\n",
    "    'draft_number': \"Draft_1\",\n",
    "    'element_type': 'character',\n",
    "    'element_name': 'The Emperor',\n",
    "    'db_path': \"ai_threat.json\",\n",
    "}\n",
    "\n",
    "db = TinyDB(config['db_path'])\n",
    "results = query_data(db, config['element_type'])\n",
    "results"
   ]
  },
  {
   "cell_type": "markdown",
   "metadata": {},
   "source": [
    "# What elements are there in this table?"
   ]
  },
  {
   "cell_type": "code",
   "execution_count": 1,
   "metadata": {},
   "outputs": [
    {
     "data": {
      "text/plain": [
       "['The Emperor']"
      ]
     },
     "execution_count": 1,
     "metadata": {},
     "output_type": "execute_result"
    }
   ],
   "source": [
    "from tinydb import TinyDB\n",
    "from src.query import query_data\n",
    "\n",
    "config = {\n",
    "    'novel_name': \"ai_threat\",\n",
    "    'draft_number': \"Draft_1\",\n",
    "    'element_type': 'character',\n",
    "    'element_name': 'The Emperor',\n",
    "    'db_path': \"ai_threat.json\",\n",
    "}\n",
    "\n",
    "db = TinyDB(config['db_path'])\n",
    "results = query_data(db, config['element_type'])\n",
    "\n",
    "[el['element_name'] for el in results]"
   ]
  },
  {
   "cell_type": "code",
   "execution_count": 26,
   "metadata": {},
   "outputs": [],
   "source": [
    "# What elements are there in this table?"
   ]
  },
  {
   "cell_type": "code",
   "execution_count": null,
   "metadata": {},
   "outputs": [],
   "source": [
    "import ipywidgets as widgets\n",
    "from IPython.display import display\n",
    "\n",
    "# Create widgets\n",
    "slider = widgets.IntSlider(description=\"Slider:\")\n",
    "text = widgets.Text(description=\"Text:\")\n",
    "button = widgets.Button(description=\"Button\")\n",
    "\n",
    "# Display widgets\n",
    "display(slider, text, button)\n",
    "\n",
    "# Add interaction\n",
    "def on_button_click(b):\n",
    "    print(f\"Slider value: {slider.value}, Text: {text.value}\")\n",
    "\n",
    "button.on_click(on_button_click)\n"
   ]
  },
  {
   "cell_type": "code",
   "execution_count": null,
   "metadata": {},
   "outputs": [],
   "source": []
  }
 ],
 "metadata": {
  "kernelspec": {
   "display_name": "Python 3",
   "language": "python",
   "name": "python3"
  },
  "language_info": {
   "codemirror_mode": {
    "name": "ipython",
    "version": 3
   },
   "file_extension": ".py",
   "mimetype": "text/x-python",
   "name": "python",
   "nbconvert_exporter": "python",
   "pygments_lexer": "ipython3",
   "version": "3.12.1"
  }
 },
 "nbformat": 4,
 "nbformat_minor": 2
}
