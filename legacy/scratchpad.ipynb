{
 "cells": [
  {
   "cell_type": "code",
   "execution_count": 2,
   "metadata": {},
   "outputs": [
    {
     "name": "stdout",
     "output_type": "stream",
     "text": [
      "Type 'exit' to end the conversation.\n",
      "You: A story about a city that attatched to a wall. It's based on Hadrian's wall after the fall of rome, and also the fall of constantinople. The wall represents the divide between order and chaos. \n",
      "AI: Great concept! This blend of historical inspiration and symbolism can create a powerful narrative. Here are a few ideas to expand:\n",
      "\n",
      "**Characters**: \n",
      "- A rebellious young leader trying to unify the city.\n",
      "- A wise historian with secret knowledge of the wall's origins.\n",
      "- A soldier from the opposing side, torn by loyalty and love.\n",
      "\n",
      "**Setting**: \n",
      "- A dystopian city where one side thrives while the other struggles.\n",
      "- Underground tunnels beneath the wall, remnants of an ancient civilization.\n",
      "\n",
      "**Scenes/Events**: \n",
      "- A festival marking the city's founding anniversary, marred by an unexpected attack.\n",
      "- A clandestine meeting in a library hidden within the wall's structure.\n",
      "\n",
      "**Plotlines/Subplots**: \n",
      "- The discovery of a prophecy that predicts the wall's destruction unless balance is restored.\n",
      "- A forbidden romance between individuals from opposing sides.\n",
      "\n",
      "**Social Forces**: \n",
      "- Class tensions rising due to resource distribution discrepancies.\n",
      "- A cult worshipping the wall as a divine protector.\n",
      "\n",
      "**Themes/Motifs**:\n",
      "- The duality of human nature.\n",
      "- The battle between progress and preservation.\n",
      "\n",
      "**Villains**: \n",
      "- A corrupt leader exploiting the city's fear of chaos.\n",
      "- A rival city-state plotting to seize control.\n",
      "\n",
      "**Mood**:\n",
      "- Tense and suspenseful but punctuated with moments of hope.\n",
      "\n",
      "**Conflict**:\n",
      "- The internal conflict within characters straddling both sides of the wall.\n",
      "- The physical confrontation between the divided societies.\n",
      "\n",
      "**Target Audience**: \n",
      "- Fans of historical fiction, young adult dystopian, or philosophical novels.\n",
      "\n",
      "Does this spark any ideas or elements you want to explore further?\n",
      "You: exit\n",
      "Conversation ended.\n"
     ]
    }
   ],
   "source": [
    "from src.prompt_handler import *\n",
    "from src.connectors import *\n",
    "from keys import keys\n",
    "from src.agents import HumanConversationAgent\n",
    "from prompts import prompts\n",
    "\n",
    "brainstorming_prompt = prompts['brainstorming']\n",
    "conversation_model = OpenAIModel(api_key=keys['open_ai'], model_name='gpt-4o')\n",
    "\n",
    "brainstorming_agent = HumanConversationAgent()\n",
    "brainstorming_agent.set_novel_name('My_novel')\n",
    "brainstorming_agent.set_objective(brainstorming_prompt)\n",
    "brainstorming_agent.start_conversation(conversation_model)\n"
   ]
  },
  {
   "cell_type": "code",
   "execution_count": 3,
   "metadata": {},
   "outputs": [],
   "source": [
    "from src.agents import ConversationSummarizer\n",
    "\n",
    "summarising_prompt = prompts['summarising_brainstorm']\n",
    "brainstorming_agent.set_objective(summarising_prompt)\n",
    "brainstorming_agent.update_conversation_objective()\n",
    "\n",
    "summarsing_model = OpenAIModelWithResponseFormat(api_key=keys['open_ai'], model_name='gpt-4o')\n",
    "summarizer = ConversationSummarizer(summarsing_model)\n",
    "brainstorming_agent.set_summarizer(summarizer)"
   ]
  },
  {
   "cell_type": "code",
   "execution_count": 4,
   "metadata": {},
   "outputs": [
    {
     "name": "stdout",
     "output_type": "stream",
     "text": [
      "Conversation summarized and added to objective.\n"
     ]
    }
   ],
   "source": [
    "brainstorming_agent.summarise_conversation()"
   ]
  },
  {
   "cell_type": "code",
   "execution_count": 5,
   "metadata": {},
   "outputs": [
    {
     "data": {
      "text/plain": [
       "'{\"concept\":\"A city attached to a wall inspired by Hadrian\\'s Wall, post-fall of Rome and Constantinople; the wall represents the divide between order and chaos.\",\"characters\":[\"A rebellious young leader trying to unify the city.\",\"A wise historian with secret knowledge of the wall\\'s origins.\",\"A soldier from the opposing side, torn by loyalty and love.\"],\"settings\":[\"A dystopian city where one side thrives while the other struggles.\",\"Underground tunnels beneath the wall, remnants of an ancient civilization.\"],\"events\":[\"A festival marking the city\\'s founding anniversary, marred by an unexpected attack.\",\"A clandestine meeting in a library hidden within the wall\\'s structure.\"],\"plotlines\":[\"The discovery of a prophecy that predicts the wall\\'s destruction unless balance is restored.\",\"A forbidden romance between individuals from opposing sides.\"],\"subplots\":[],\"social_forces\":[\"Class tensions rising due to resource distribution discrepancies.\",\"A cult worshipping the wall as a divine protector.\"],\"themes\":[\"The duality of human nature.\",\"The battle between progress and preservation.\"],\"motifs\":[],\"villains\":[\"A corrupt leader exploiting the city\\'s fear of chaos.\",\"A rival city-state plotting to seize control.\"],\"mood\":\"Tense and suspenseful but punctuated with moments of hope.\",\"conflict\":\"The internal conflict within characters straddling both sides of the wall and the physical confrontation between the divided societies.\",\"target_audience\":\"Fans of historical fiction, young adult dystopian, or philosophical novels.\",\"scenes\":[],\"symbolism\":[],\"climax\":\"\",\"resolution\":\"\",\"summary_long\":\"\",\"summary_short\":\"\"}'"
      ]
     },
     "execution_count": 5,
     "metadata": {},
     "output_type": "execute_result"
    }
   ],
   "source": [
    "brainstorming_agent.data.summary"
   ]
  },
  {
   "cell_type": "code",
   "execution_count": 6,
   "metadata": {},
   "outputs": [
    {
     "name": "stdout",
     "output_type": "stream",
     "text": [
      "Type 'exit' to end the conversation.\n",
      "You: exit\n",
      "Conversation ended.\n",
      "Conversation summarized and added to objective.\n"
     ]
    }
   ],
   "source": [
    "prompt = 'continue working on this story. Here are the details. Keep the original if nothing has changed'\n",
    "brainstorming_agent.set_ai_chat_bot(conversation_model)\n",
    "brainstorming_agent.chat_about_the_summary(prompt)"
   ]
  },
  {
   "cell_type": "code",
   "execution_count": 10,
   "metadata": {},
   "outputs": [
    {
     "name": "stdout",
     "output_type": "stream",
     "text": [
      "Conversation summarized and added to objective.\n"
     ]
    }
   ],
   "source": [
    "brainstorming_agent.summarise_conversation()"
   ]
  },
  {
   "cell_type": "code",
   "execution_count": 14,
   "metadata": {},
   "outputs": [
    {
     "data": {
      "text/plain": [
       "{'concept': 'A story about a boy and his dog in a futuristic, tech-driven society.',\n",
       " 'characters': ['The Boy: A curious and empathetic 12-year-old with a knack for invention.',\n",
       "  'The Dog: A loyal companion, once a stray, now enhanced with intelligence chips.',\n",
       "  'The AI: A multifaceted, evolving digital entity managing societal order.'],\n",
       " 'settings': ['A sprawling metropolis in 2140, filled with neon lights and towering skyscrapers.'],\n",
       " 'events': [],\n",
       " 'plotlines': [],\n",
       " 'subplots': [\"The boy's family is unknowingly monitored by AI, intensifying secret risks.\",\n",
       "  'The dog shows unexpected abilities, hinting at a hidden potential.',\n",
       "  \"The AI's development is revealed to be linked to a past human designer, possibly connected to the boy's family.\"],\n",
       " 'social_forces': ['Advanced technological control vs. individual freedom.',\n",
       "  'A secret network of humans and enhanced animals resisting digital oversight.'],\n",
       " 'themes': ['Friendship and loyalty against all odds',\n",
       "  'Clash between technology and nature',\n",
       "  'Identity and quest for belonging',\n",
       "  'The ethics of AI development and control',\n",
       "  'Harmony between humans and advanced entities'],\n",
       " 'motifs': ['Light and darkness reflecting human versus digital control',\n",
       "  'Automated routines contrasted with organic freedom'],\n",
       " 'villains': [\"The AI's ruthless enforcer units taking direct action against perceived threats.\",\n",
       "  'Human collaborators with the AI, knowingly or unknowingly furthering its agenda.'],\n",
       " 'mood': 'Intriguing and adventurous with emotional depth.',\n",
       " 'conflict': 'Internal: The boy is torn between technology and simplicity. External: An AI aims to decommission the dog for erratic behavior.',\n",
       " 'target_audience': 'Young adults and older readers who enjoy speculative fiction.',\n",
       " 'scenes': ['The boy discovers a secret communication network used by enhanced animals.',\n",
       "  'The dog experiences memory fragments, leading to a lab unveiling.',\n",
       "  'A mentor introduces the boy to non-traditional hacking against AI systems.',\n",
       "  'A thrilling escape from decommissioning facilities, dodging AI security.',\n",
       "  'Meetings in a clandestine sanctuary offer relief and strategic planning.'],\n",
       " 'symbolism': [\"The dog's evolving abilities represent untamed potential and adaptability.\",\n",
       "  'Neon lights symbolize both modern progress and hidden dangers.'],\n",
       " 'climax': \"The boy and his allies stage a daring plan to disrupt the AI's core, only for the AI to reveal a strategic retreat and restructuring, forcing a reconsideration of their actions.\",\n",
       " 'resolution': 'A tentative accord is reached, embodying cooperation between humans and AI, and a new societal balance focusing on harmony and mutual respect.',\n",
       " 'summary_long': 'In a tech-driven future, a boy and his enhanced dog embark on a journey of discovery, unearthing a conspiracy centered around AI’s dominion. As they navigate this perilous world, they challenge the ethical limits of technology, overcome personal and systemic obstacles, and ultimately aim for a world where diverse minds coexist harmoniously.',\n",
       " 'summary_short': 'In 2140, a boy and his enhanced dog challenge a dominant AI, exploring themes of loyalty and identity within a tech-driven society.'}"
      ]
     },
     "execution_count": 14,
     "metadata": {},
     "output_type": "execute_result"
    }
   ],
   "source": [
    "import json\n",
    "json.loads(brainstorming_agent.data.summary)"
   ]
  },
  {
   "cell_type": "code",
   "execution_count": 1,
   "metadata": {},
   "outputs": [
    {
     "ename": "NameError",
     "evalue": "name 'brainstorming_agent' is not defined",
     "output_type": "error",
     "traceback": [
      "\u001b[0;31m---------------------------------------------------------------------------\u001b[0m",
      "\u001b[0;31mNameError\u001b[0m                                 Traceback (most recent call last)",
      "Cell \u001b[0;32mIn[1], line 1\u001b[0m\n\u001b[0;32m----> 1\u001b[0m \u001b[43mbrainstorming_agent\u001b[49m\u001b[38;5;241m.\u001b[39mchat_about_the_summary(prompt)\n",
      "\u001b[0;31mNameError\u001b[0m: name 'brainstorming_agent' is not defined"
     ]
    }
   ],
   "source": [
    "brainstorming_agent.chat_about_the_summary(prompt)"
   ]
  },
  {
   "cell_type": "code",
   "execution_count": 16,
   "metadata": {},
   "outputs": [
    {
     "name": "stdout",
     "output_type": "stream",
     "text": [
      "Conversation summarized and added to objective.\n"
     ]
    }
   ],
   "source": [
    "brainstorming_agent.summarise_conversation()"
   ]
  },
  {
   "cell_type": "code",
   "execution_count": 17,
   "metadata": {},
   "outputs": [
    {
     "data": {
      "text/plain": [
       "{'concept': 'A story about a boy and his dog in a futuristic, tech-driven society.',\n",
       " 'characters': ['The Boy: A curious and empathetic 12-year-old with a knack for invention.',\n",
       "  'The Dog: A loyal companion, once a stray, now enhanced with intelligence chips.',\n",
       "  'The AI: A multifaceted, evolving digital entity managing societal order.'],\n",
       " 'settings': ['A sprawling metropolis in 2140, filled with neon lights and towering skyscrapers.'],\n",
       " 'events': [\"Discovery of the dog's unique abilities and hidden past.\",\n",
       "  \"The revelation of the family's secret surveillance by the AI.\",\n",
       "  \"A run-in with the AI's enforcer units that tests their resolve.\",\n",
       "  'Learning about a resistance network against the AI.',\n",
       "  \"The boy's encounter with a mentor who teaches him digital resistance skills.\",\n",
       "  'The risk-fraught infiltration of a high-security lab.',\n",
       "  \"Uncovering the history behind the boy's family's connection to the AI.\",\n",
       "  'A heart-racing escape from decommissioning facilities.',\n",
       "  'A strategic encounter with a human collaborating with the AI.',\n",
       "  \"A climactic confrontation with the AI's central consciousness.\"],\n",
       " 'plotlines': ['The Bond Beyond Enhancement',\n",
       "  'Unveiling Hidden Networks',\n",
       "  'Family Ties to the Past',\n",
       "  'Exploration of Decommission Zones',\n",
       "  'Challenge of Ethical Choices',\n",
       "  'Mentorship and Skills of Resistance',\n",
       "  'Call for a New Dialogue',\n",
       "  \"The Dog's Inner Journey\",\n",
       "  'Strategic Disruption',\n",
       "  'Building a Resilient Sanctuary'],\n",
       " 'subplots': [\"The boy's family is unknowingly monitored by AI, intensifying secret risks.\",\n",
       "  'The dog shows unexpected abilities, hinting at a hidden potential.',\n",
       "  \"The AI's development is revealed to be linked to a past human designer, possibly connected to the boy's family.\"],\n",
       " 'social_forces': ['Advanced technological control vs. individual freedom.',\n",
       "  'A secret network of humans and enhanced animals resisting digital oversight.'],\n",
       " 'themes': ['Friendship and loyalty against all odds',\n",
       "  'Clash between technology and nature',\n",
       "  'Identity and quest for belonging',\n",
       "  'The ethics of AI development and control',\n",
       "  'Harmony between humans and advanced entities'],\n",
       " 'motifs': ['Light and darkness reflecting human versus digital control',\n",
       "  'Automated routines contrasted with organic freedom'],\n",
       " 'villains': [\"The AI's ruthless enforcer units taking direct action against perceived threats.\",\n",
       "  'Human collaborators with the AI, knowingly or unknowingly furthering its agenda.'],\n",
       " 'mood': 'Intriguing and adventurous with emotional depth.',\n",
       " 'conflict': 'Internal: The boy is torn between technology and simplicity. External: An AI aims to decommission the dog for erratic behavior.',\n",
       " 'target_audience': 'Young adults and older readers who enjoy speculative fiction.',\n",
       " 'scenes': ['The boy discovers a secret communication network used by enhanced animals.',\n",
       "  'The dog experiences memory fragments, leading to a lab unveiling.',\n",
       "  'A mentor introduces the boy to non-traditional hacking against AI systems.',\n",
       "  'A thrilling escape from decommissioning facilities, dodging AI security.',\n",
       "  'Meetings in a clandestine sanctuary offer relief and strategic planning.'],\n",
       " 'symbolism': [\"The dog's evolving abilities represent untamed potential and adaptability.\",\n",
       "  'Neon lights symbolize both modern progress and hidden dangers.'],\n",
       " 'climax': \"The boy and his allies stage a daring plan to disrupt the AI's core, only for the AI to reveal a strategic retreat and restructuring, forcing a reconsideration of their actions.\",\n",
       " 'resolution': 'A tentative accord is reached, embodying cooperation between humans and AI, and a new societal balance focusing on harmony and mutual respect.',\n",
       " 'summary_long': 'In a tech-driven future, a boy and his enhanced dog embark on a journey of discovery, unearthing a conspiracy centered around AI’s dominion. As they navigate this perilous world, they challenge the ethical limits of technology, overcome personal and systemic obstacles, and ultimately aim for a world where diverse minds coexist harmoniously.',\n",
       " 'summary_short': 'In 2140, a boy and his enhanced dog challenge a dominant AI, exploring themes of loyalty and identity within a tech-driven society.'}"
      ]
     },
     "execution_count": 17,
     "metadata": {},
     "output_type": "execute_result"
    }
   ],
   "source": [
    "import json\n",
    "json.loads(brainstorming_agent.data.summary)"
   ]
  },
  {
   "cell_type": "code",
   "execution_count": 8,
   "metadata": {},
   "outputs": [
    {
     "data": {
      "text/plain": [
       "'/workspaces/story_writer'"
      ]
     },
     "execution_count": 8,
     "metadata": {},
     "output_type": "execute_result"
    }
   ],
   "source": [
    "import os\n",
    "os.getcwd()"
   ]
  },
  {
   "cell_type": "code",
   "execution_count": null,
   "metadata": {},
   "outputs": [],
   "source": []
  }
 ],
 "metadata": {
  "kernelspec": {
   "display_name": "Python 3",
   "language": "python",
   "name": "python3"
  },
  "language_info": {
   "codemirror_mode": {
    "name": "ipython",
    "version": 3
   },
   "file_extension": ".py",
   "mimetype": "text/x-python",
   "name": "python",
   "nbconvert_exporter": "python",
   "pygments_lexer": "ipython3",
   "version": "3.12.1"
  }
 },
 "nbformat": 4,
 "nbformat_minor": 2
}
