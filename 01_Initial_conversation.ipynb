{
 "cells": [
  {
   "cell_type": "markdown",
   "metadata": {},
   "source": [
    "# Chat"
   ]
  },
  {
   "cell_type": "code",
   "execution_count": 18,
   "metadata": {},
   "outputs": [
    {
     "name": "stdout",
     "output_type": "stream",
     "text": [
      "You are helping the user come up with a concept for a novel. We are going to have a conversation about what type of \n",
      "                   novel the user would like to write. Can you offer ideas that both contrast and are similar to the idea. Try to get \n",
      "                   information about character ideas, settings, any particular events or scenes, plotlines, subplots, social forces, \n",
      "                   themes, motifs, villains, mood, conflict, and target audience . If the user has missed any of these, mention them.\n",
      "                   Try to keep your resonses quite short. If there was a previous conversation, a summary of it will be posted first.\n",
      "Type 'exit' to end the conversation.\n",
      "You: Let's talk about the villain. His history is shrouded in mystery. He's a kind of God-man, part human cyborg.He's similary to Souron in The Lord of the Rings. He's so vast that it's difficult to comprehend him. \n",
      "AI: Creating a villain with the presence and complexity of a godlike cyborg being adds a rich dimension to your story. Here are some ways to develop this character:\n",
      "\n",
      "1. **Origins**: The villain could have once been a prominent human or a significant figure from an earlier time, possibly someone who experimented with merging humanity with technology to transcend human limitations.\n",
      "\n",
      "2. **Mystique**: Keep much of his backstory a mystery, with scattered myths and legends about his rise to power and transformation into a cybernetic entity. This adds depth and encourages speculation among characters.\n",
      "\n",
      "3. **Motivations**: His goals might include seeking to reshape the universe according to his vision of perfection, eliminating perceived flaws, or hunting the last humans to reclaim or alter humanity's future.\n",
      "\n",
      "4. **Powers and Abilities**: As a part-cyborg god-man, he might control vast fleets or wield technology that borders on the magical, with the ability to manipulate environments or even minds.\n",
      "\n",
      "5. **Symbolism**: He represents the extreme end of technological evolution and authoritarian control, embodying the dangers of losing humanity to technological obsession and the quest for power.\n",
      "\n",
      "6. **Enigma**: The extent of his consciousness might be distributed across a network, making him omnipresent and seemingly indestructible, creating an aura of uncontested dominance.\n",
      "\n",
      "7. **Weakness**: While powerful, his detachment from human emotions or overconfidence in technology could be exploited by the protagonists, creating intriguing strategic dynamics.\n",
      "\n",
      "8. **Influence**: His presence can seed fear and loyalty in other intelligent beings or factions, making his reach extensive through both direct control and ideological persuasion.\n",
      "\n",
      "Integrating these elements can create a formidable antagonist who challenges the protagonists not just physically, but philosophically and morally as well. How does this align with your vision for the villain, or would you like to explore more details?\n",
      "You: He sees himself as what Adam in the garden of eden should have been. He should have took the fruit and claimed it as his own. \n",
      "AI: That’s a compelling twist that imbues the villain with philosophical and religious undertones. Here’s how you can develop this further:\n",
      "\n",
      "1. **Philosophy**: He believes in taking control of destiny and achieving godhood through knowledge and transformation. By \"eating the fruit,\" he symbolizes the pursuit of forbidden knowledge and ultimate power.\n",
      "\n",
      "2. **Narrative Parallel**: View his actions as a reinterpretation of the Garden of Eden story. He sees humanity's historical choice—the rejection of divine or natural order—as a mistake, one he's determined to correct by forcefully guiding the future.\n",
      "\n",
      "3. **Motivations**: His quest could involve not only eliminating those who reject his vision but also reshaping or \"re-educating\" humanity to follow his ideals of strength and enlightenment through technological and philosophical transcendence.\n",
      "\n",
      "4. **Symbolic Conflict**: His ideals clash with the human protagonists’ values of unity and collective survival, embodying the tension between self-serving enlightenment and shared human experience.\n",
      "\n",
      "5. **Backstory Revelation**: Unveil bits of his past that suggest why he believes so ardently in rewriting humanity’s path—a lost opportunity, great betrayal, or perceived failure of humanity that fuels his convictions.\n",
      "\n",
      "6. **Character Flaw**: His unwavering belief in his vision might blind him to the nuances of human emotion and community, which becomes his exploitable vulnerability.\n",
      "\n",
      "7. **Redemption Arc Potential**: As a complex villain, there could be moments hinting at doubt or recognition of his isolation, offering the potential for a nuanced arc that the protagonists can influence.\n",
      "\n",
      "8. **Followers**: He may gather followers who also believe in transcending humanity's limitations, serving as his apostles in bringing about a \"new Eden.\"\n",
      "\n",
      "This rich backstory and motivation create a villain whose grand vision and ideological zeal make him a compelling and multifaceted antagonist. Does this align with your vision, or are there other aspects you’d like to explore?\n",
      "You: The other humans have something he wants - what is that?\n",
      "AI: Here are a few intriguing possibilities for what the other humans possess that the villain desires:\n",
      "\n",
      "1. **Genetic Blueprint**: They might carry genetic material or traits that represent what he perceives as the \"perfect\" blend of humanity and machine. This could symbolize potential or lost purity necessary for his vision.\n",
      "\n",
      "2. **Lost Knowledge**: They have access to ancient knowledge or artifacts that he needs to complete his transformation or unlock deeper powers, possibly tied to the original technology used to create the spaceship.\n",
      "\n",
      "3. **Unified Spirit**: The unifying force among the humans—represented in their AI's need for diverse input—might be something he can’t replicate with his authoritarian control. He might covet their ability to adapt and unify in ways his own followers cannot.\n",
      "\n",
      "4. **Resource or Energy Source**: The humans might unknowingly control an energy source or material crucial to powering his ultimate weapon or completing his technological evolution.\n",
      "\n",
      "5. **Emotional Connection**: Perhaps he’s missing an essential human trait, such as empathy or compassion, which the last humans possess. By merging with or assimilating them, he seeks to reclaim this lost piece of his humanity.\n",
      "\n",
      "6. **Strategic Knowledge or Skills**: They might hold the key to strategic knowledge, such as navigation through a dangerous area of space—or even the universe itself—aided by their unique cultural and historical experiences.\n",
      "\n",
      "7. **Symbolic Significance**: Their survival represents the last challenge to his ideology, and he seeks not just a tangible resource but the symbolic defeat of humanity’s enduring spirit.\n",
      "\n",
      "Choosing one or more of these could create compelling motivations for the villain, driving the plot forward and deepening the themes of resistance and survival. Which of these resonates most with your narrative, or is there another angle you’d like to explore?\n",
      "You: He wants the ship. He wants to merge with it, because he thinks it will make him stronger. \n",
      "AI: This adds an exciting dimension to both the villain and the ship as characters. Here’s how you can integrate this element:\n",
      "\n",
      "1. **Ship’s Significance**: The ship is not just a mode of transportation but a powerful artifact with unique capabilities—perhaps it houses ancient, advanced technology that the villain believes will elevate his power.\n",
      "\n",
      "2. **Connection to Humanity**: The ship’s operation requires human input, making it a vessel not just of technology but of human potential and unity, which he sees as the missing puzzle piece in his evolution.\n",
      "\n",
      "3. **Symbol of Power**: For the villain, merging with the ship could mean achieving a final godlike state, controlling both technology and the human elements that have persisted despite his other conquests.\n",
      "\n",
      "4. **Ship AI’s Role**: The ship’s AI becomes a critical player in resisting the villain’s intentions, creating a parallel between human struggle and the AI’s own journey toward self-awareness and autonomy.\n",
      "\n",
      "5. **Conflict**: His desire to merge with the ship creates immediate, high-stakes conflict, as the humans must protect it not only for their survival but to prevent catastrophic misuse.\n",
      "\n",
      "6. **Ritualistic or Technological Merger**: Narrative threads could explore the process required for this merger, possibly a complex ritual or a technologically intricate maneuver that the humans must thwart.\n",
      "\n",
      "7. **Character Motivation**: His obsession with the ship could stem from overconfidence in technological supremacy; its importance transcends mere power and taps into his aspirations for transcendence.\n",
      "\n",
      "8. **Climactic Confrontation**: The climax might revolve around his attempt to seize the ship, setting the stage for an epic showdown that tests the unity and resolve of the human crew.\n",
      "\n",
      "This drives the narrative tension and provides a clear, compelling motivation for the villain, linking him intricately to the protagonists’ journey. Does this align with your vision, or are there other facets to explore?\n",
      "You: I think the climax is that he siezes the ship and takes it. But rather than strengthening him, it undermines him. The survivors get a chance to strike back, and they risk it all on a mission.\n",
      "AI: That’s a powerful climax—here's how you can structure and build up to this turning point:\n",
      "\n",
      "1. **Underestimated Power**: By seizing the ship, the villain inadvertently activates the human-dependent aspects of the AI, which begin resisting or destabilizing his control. This subtly suggests that true power lies in synergy with humanity rather than domination.\n",
      "\n",
      "2. **Sabotage and Strategy**: The human survivors can play a key role in undermining his control by using their intimate knowledge of the ship to execute a strategic plan. This could include introducing controlled malfunctions or redirecting the ship's systems against him.\n",
      "\n",
      "3. **Revelation of True Strength**: As the villain struggles to gain full control, both he and the characters realize that it’s the unity and adaptability of human input that powers the ship's most formidable capabilities, rather than brute force or top-down command.\n",
      "\n",
      "4. **Opportunity for Rebellion**: With his control wavering, the survivors seize this opportunity to launch a daring counterattack, risking everything in a high-stakes mission to reclaim the ship.\n",
      "\n",
      "5. **Emotional Highs**: This situation creates intense emotional dynamics, highlighting the resolve and courage of the human characters as they rally together, harnessing their diverse strengths toward a common goal.\n",
      "\n",
      "6. **Thematic Resolutions**: This climax underscores thematic elements about the importance of unity, trust, and the unpredictability of human resilience against seemingly insurmountable odds.\n",
      "\n",
      "7. **Final Confrontation**: Tension peaks as they engage in a direct confrontation, using cunning strategies and exploiting the vulnerabilities exposed by the villain’s overreach.\n",
      "\n",
      "8. **Resolution**: The mission concludes in their favor, reclaiming the ship and reasserting their independence, while also highlighting the villain’s fundamental error in underestimating the power of collective humanity.\n",
      "\n",
      "This climax could provide a satisfying resolution to the threads of unity, adaptability, and resilience that run throughout your narrative. How does this align with your vision, or is there another aspect you'd like to explore further?\n",
      "You: test\n",
      "AI: If you have more questions or need further assistance with your story, feel free to ask! I'm here to help with any aspect of your novel's development.\n",
      "You: exit\n",
      "Conversation ended.\n"
     ]
    }
   ],
   "source": [
    "from src.chat import Chat\n",
    "from prompts import brainstorming\n",
    "print(brainstorming)\n",
    "chat = Chat()\n",
    "chat.set_prompt(brainstorming)\n",
    "chat.continue_conversation()"
   ]
  },
  {
   "cell_type": "code",
   "execution_count": 19,
   "metadata": {},
   "outputs": [],
   "source": [
    "messages = chat.messages"
   ]
  },
  {
   "cell_type": "markdown",
   "metadata": {},
   "source": [
    "# Summarise"
   ]
  },
  {
   "cell_type": "code",
   "execution_count": 23,
   "metadata": {},
   "outputs": [
    {
     "data": {
      "text/plain": [
       "{'concept': \"A high-stakes space opera where humans uncover their city is a long-dormant spaceship. They activate it and embark on a journey seeking an ancient city, led by their AI's instructions to find the promised land—pursued by an advanced existential threat. This threat symbolizes a rigid, authoritarian AI system, contrasting with their own ship's AI, which grows through human input and a shared unifying goal.\",\n",
       " 'main_quest': [\"To locate and settle in the legendary ancient city, believed to be the promised land and humanity's sanctuary.\"],\n",
       " 'stakes': ['The survival of humanity as they are possibly the last remnants of their civilization.',\n",
       "  'The philosophical battle and survival against a superior AI-driven enemy.'],\n",
       " 'characters': ['A ship navigator fascinated by stars.',\n",
       "  'A historian passionate about preserving human culture.',\n",
       "  'A rogue archaeologist who uncovers the truth about the ship.',\n",
       "  'The ship AI, learning and evolving through human input driven by a unifying mission.'],\n",
       " 'settings': ['A once-great city now revealed as a massive, ancient spaceship.',\n",
       "  'The vastness of space filled with dangers and potential leads to the ancient city.',\n",
       "  'Mythical paths and celestial maps guiding them towards the promised land.'],\n",
       " 'events': [\"The accidental discovery of the ship's true nature and its original mission.\",\n",
       "  'Launching the ship and the transition from a stationary city to a dynamic quest.',\n",
       "  'Fleeing from and strategizing against the pursuing enemy.',\n",
       "  'Decoding mysterious clues that hint at the direction of the ancient city.'],\n",
       " 'main_plotlines': ['The humans activating and launching their spaceship city, embarking on a mythic quest for the ancient city through guidance from their AI.',\n",
       "  \"The philosophical and literal battle between 'bottom up' human AI interaction and 'top down' enemy AI control.\"],\n",
       " 'subplots': ['Individual character arcs grappling with the implications of a mythic journey.',\n",
       "  \"A unified effort forming within the ship to follow the AI's guidance and unravel mysteries.\",\n",
       "  'Trials of faith and reason as they interpret the cryptic path to the promised land.'],\n",
       " 'social_forces': ['The need to adapt societal roles and hierarchies aboard the ship under a unifying goal.',\n",
       "  'Unity and collective mission becoming the strategic asset against a homogenizing enemy force.'],\n",
       " 'themes': ['Survival against overwhelming odds.',\n",
       "  'The importance of unity and common purpose in the face of extinction.',\n",
       "  'The power of shared vision and collaboration driven by hope for new beginnings.'],\n",
       " 'motifs': ['Ancient legends and celestial maps recontextualizing human destiny.',\n",
       "  'The dichotomy of freedom and control represented through different AI systems.'],\n",
       " 'villains': ['A superior AI-driven enemy, representing a rigid, top-down approach.'],\n",
       " 'mood': ['Epic and suspenseful, blending existential dread with moments of hope and human resilience.'],\n",
       " 'conflicts': [\"Internal conflicts between maintaining humanity's cultural heritage and following the mythic quest.\",\n",
       "  'Strategic conflicts between the flexible human-AI system and the authoritarian enemy AI.'],\n",
       " 'target_audience': 'Fans of high-concept sci-fi adventures that delve into philosophical questions and character-driven narratives.',\n",
       " 'scenes': ['Human characters debating cryptic clues that will guide their AI system.',\n",
       "  'Encounters with the vastly superior enemy, highlighting strategic divergences.',\n",
       "  'United efforts and strategic planning towards finding the ancient city.'],\n",
       " 'symbolism': ['The ship and the promised land symbolize hope, new beginnings, and the enduring spirit of humanity.'],\n",
       " 'climax': 'A showdown at the gates of the ancient city between the adaptable human-AI collaboration and the rigid enemy AI dominance, testing the limits of both systems.',\n",
       " 'resolution': \"Reclaiming the ancient city, ensuring humanity's survival and asserting the value of unity and collective ambition.\",\n",
       " 'summary_long': \"In a world where a city discovers its true nature as an ancient ship, humans embark on an epic journey through space towards an ancient city, believed to be the promised land of salvation. They are pursued by a relentless existential threat — an advanced AI system seeking their annihilation. Central to their survival is their ship's AI, which requires human 'bottom up' judgments, contrasting with their enemy's 'top down' authority. With unity and a shared mission as their strength, the humans strive to outwit their trackers, exploring themes of survival, identity, and the power of a collective vision.\",\n",
       " 'summary_short': 'A journey of survival, where humans on a massive ancient spaceship pursue an ancient city, combining unity and adaptability to flee a superior AI threat.'}"
      ]
     },
     "execution_count": 23,
     "metadata": {},
     "output_type": "execute_result"
    }
   ],
   "source": [
    "from src.summarizer import *\n",
    "#from response_formats import general_chat_response\n",
    "from prompts import summarising_brainstorm\n",
    "\n",
    "summarizer = ConversationSummarizer(response_format=general_chat_response)\n",
    "messages.add_or_change_system_message(summarising_brainstorm)\n",
    "summarizer.summarize(messages)\n",
    "summary_str = summarizer.summarized_text\n",
    "summary = summarizer.parse_summary_to_json()\n",
    "summary"
   ]
  },
  {
   "cell_type": "markdown",
   "metadata": {},
   "source": [
    "# Continue conversation"
   ]
  },
  {
   "cell_type": "code",
   "execution_count": 22,
   "metadata": {},
   "outputs": [
    {
     "name": "stdout",
     "output_type": "stream",
     "text": [
      "You are helping the user come up with a concept for a novel. We are going to have a conversation about what type of \n",
      "                   novel the user would like to write. Can you offer ideas that both contrast and are similar to the idea. Try to get \n",
      "                   information about character ideas, settings, any particular events or scenes, plotlines, subplots, social forces, \n",
      "                   themes, motifs, villains, mood, conflict, and target audience . If the user has missed any of these, mention them.\n",
      "                   Try to keep your resonses quite short. If there was a previous conversation, a summary of it will be posted first.\n",
      "Type 'exit' to end the conversation.\n",
      "You: Rather than searching for a new hospitable planet - they must search of an ancient city and settle there. The AI tells them to search for the promised land. \n",
      "AI: This twist adds a mythic and mysterious layer to the narrative. Here’s how you can expand on this idea:\n",
      "\n",
      "1. **Mythic Quest**: The search for an \"ancient city\" positions their journey as a quest for a promised land, giving the narrative a legendary or spiritual undertone. This city is reputedly rich in resources or advanced technology, capable of sustaining human life anew.\n",
      "\n",
      "2. **Clues and Mysteries**: The ship’s AI could provide cryptic clues or ancient records that guide the humans, drawing on the idea of prophecy or predestined galactic coordinates that promise salvation.\n",
      "\n",
      "3. **Cultural Significance**: This city might hold cultural or historical significance to the survivors—a rumored birthplace of humanity’s ancestors or the site of past human success and innovation.\n",
      "\n",
      "4. **Obstacles and Trials**: Their journey could involve overcoming cosmic challenges, deciphering encrypted maps or ancient languages, and racing against the enemy who may have its own interest in this promised land.\n",
      "\n",
      "5. **Moral and Ethical Questions**: The search raises questions about faith in technology versus human intuition, and the potential conflicts between myth and reality.\n",
      "\n",
      "6. **Final Showdown**: The climax might revolve around reaching the city just as the antagonist does, leading to a confrontation not only over physical territory but the right to humanity’s future path.\n",
      "\n",
      "7. **Symbolism**: The ancient city symbolizes hope and rebirth, as well as a return to origins or an evolution toward a new phase of existence, contrasting with the villain’s technological omnipotence.\n",
      "\n",
      "8. **Resolution**: Finding or reclaiming the city provides a sense of closure and new beginnings, emphasizing the importance of legacy, unity, and ambition driven by hope.\n",
      "\n",
      "Does this align with your vision of the narrative, or are there additional elements you’d like to incorporate?\n",
      "You: exit\n",
      "Conversation ended.\n"
     ]
    }
   ],
   "source": [
    "print(brainstorming)\n",
    "chat = Chat()\n",
    "chat.set_prompt(brainstorming)\n",
    "chat.messages.add_human_message(summary_str)\n",
    "chat.continue_conversation()"
   ]
  },
  {
   "cell_type": "markdown",
   "metadata": {},
   "source": [
    "# Make Directory"
   ]
  },
  {
   "cell_type": "code",
   "execution_count": 24,
   "metadata": {},
   "outputs": [],
   "source": [
    "story_name = 'ai_threat'\n",
    "folder_path = f'story/{story_name}'"
   ]
  },
  {
   "cell_type": "code",
   "execution_count": 25,
   "metadata": {},
   "outputs": [],
   "source": [
    "import os\n",
    "os.mkdir(folder_path)\n"
   ]
  },
  {
   "cell_type": "markdown",
   "metadata": {},
   "source": [
    "# Save"
   ]
  },
  {
   "cell_type": "code",
   "execution_count": 26,
   "metadata": {},
   "outputs": [],
   "source": [
    "from tinydb import TinyDB, Query\n",
    "from src.data_manager import save_data\n",
    "\n",
    "db = TinyDB(config['db_path'])\n",
    "\n",
    "save_data(db, new_summary, config)"
   ]
  },
  {
   "cell_type": "code",
   "execution_count": null,
   "metadata": {},
   "outputs": [],
   "source": []
  }
 ],
 "metadata": {
  "kernelspec": {
   "display_name": "Python 3",
   "language": "python",
   "name": "python3"
  },
  "language_info": {
   "codemirror_mode": {
    "name": "ipython",
    "version": 3
   },
   "file_extension": ".py",
   "mimetype": "text/x-python",
   "name": "python",
   "nbconvert_exporter": "python",
   "pygments_lexer": "ipython3",
   "version": "3.12.1"
  }
 },
 "nbformat": 4,
 "nbformat_minor": 2
}
